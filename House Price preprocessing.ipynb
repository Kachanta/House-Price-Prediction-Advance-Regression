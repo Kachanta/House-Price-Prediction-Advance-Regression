{
 "cells": [
  {
   "cell_type": "code",
   "execution_count": 1,
   "id": "15de1f8f-d276-49c6-8f60-7d08f97b6ecd",
   "metadata": {},
   "outputs": [],
   "source": [
    "import numpy as np\n",
    "import pandas as pd\n",
    "import matplotlib.pyplot as plt\n",
    "import seaborn as sns\n",
    "sns.set()"
   ]
  },
  {
   "cell_type": "code",
   "execution_count": 2,
   "id": "cdb2f745-9691-45c8-94ba-68a7d78b3933",
   "metadata": {},
   "outputs": [],
   "source": [
    "train_data = pd.read_csv('train.csv')\n",
    "test = pd.read_csv('test.csv')\n",
    "ss = pd.read_csv('sample_submission.csv')"
   ]
  },
  {
   "cell_type": "code",
   "execution_count": 3,
   "id": "742933a9-468c-4f42-a7f7-db178533c3e1",
   "metadata": {},
   "outputs": [
    {
     "data": {
      "text/plain": [
       "((1460, 81), (1459, 80), (1459, 2))"
      ]
     },
     "execution_count": 3,
     "metadata": {},
     "output_type": "execute_result"
    }
   ],
   "source": [
    "# Checking the shapes of the all the datas\n",
    "train_data.shape, test.shape, ss.shape"
   ]
  },
  {
   "cell_type": "code",
   "execution_count": 4,
   "id": "caebbbcf-5450-47a6-87cf-f20ffc848733",
   "metadata": {},
   "outputs": [
    {
     "name": "stdout",
     "output_type": "stream",
     "text": [
      "<class 'pandas.core.frame.DataFrame'>\n",
      "RangeIndex: 1460 entries, 0 to 1459\n",
      "Data columns (total 81 columns):\n",
      " #   Column         Non-Null Count  Dtype  \n",
      "---  ------         --------------  -----  \n",
      " 0   Id             1460 non-null   int64  \n",
      " 1   MSSubClass     1460 non-null   int64  \n",
      " 2   MSZoning       1460 non-null   object \n",
      " 3   LotFrontage    1201 non-null   float64\n",
      " 4   LotArea        1460 non-null   int64  \n",
      " 5   Street         1460 non-null   object \n",
      " 6   Alley          91 non-null     object \n",
      " 7   LotShape       1460 non-null   object \n",
      " 8   LandContour    1460 non-null   object \n",
      " 9   Utilities      1460 non-null   object \n",
      " 10  LotConfig      1460 non-null   object \n",
      " 11  LandSlope      1460 non-null   object \n",
      " 12  Neighborhood   1460 non-null   object \n",
      " 13  Condition1     1460 non-null   object \n",
      " 14  Condition2     1460 non-null   object \n",
      " 15  BldgType       1460 non-null   object \n",
      " 16  HouseStyle     1460 non-null   object \n",
      " 17  OverallQual    1460 non-null   int64  \n",
      " 18  OverallCond    1460 non-null   int64  \n",
      " 19  YearBuilt      1460 non-null   int64  \n",
      " 20  YearRemodAdd   1460 non-null   int64  \n",
      " 21  RoofStyle      1460 non-null   object \n",
      " 22  RoofMatl       1460 non-null   object \n",
      " 23  Exterior1st    1460 non-null   object \n",
      " 24  Exterior2nd    1460 non-null   object \n",
      " 25  MasVnrType     1452 non-null   object \n",
      " 26  MasVnrArea     1452 non-null   float64\n",
      " 27  ExterQual      1460 non-null   object \n",
      " 28  ExterCond      1460 non-null   object \n",
      " 29  Foundation     1460 non-null   object \n",
      " 30  BsmtQual       1423 non-null   object \n",
      " 31  BsmtCond       1423 non-null   object \n",
      " 32  BsmtExposure   1422 non-null   object \n",
      " 33  BsmtFinType1   1423 non-null   object \n",
      " 34  BsmtFinSF1     1460 non-null   int64  \n",
      " 35  BsmtFinType2   1422 non-null   object \n",
      " 36  BsmtFinSF2     1460 non-null   int64  \n",
      " 37  BsmtUnfSF      1460 non-null   int64  \n",
      " 38  TotalBsmtSF    1460 non-null   int64  \n",
      " 39  Heating        1460 non-null   object \n",
      " 40  HeatingQC      1460 non-null   object \n",
      " 41  CentralAir     1460 non-null   object \n",
      " 42  Electrical     1459 non-null   object \n",
      " 43  1stFlrSF       1460 non-null   int64  \n",
      " 44  2ndFlrSF       1460 non-null   int64  \n",
      " 45  LowQualFinSF   1460 non-null   int64  \n",
      " 46  GrLivArea      1460 non-null   int64  \n",
      " 47  BsmtFullBath   1460 non-null   int64  \n",
      " 48  BsmtHalfBath   1460 non-null   int64  \n",
      " 49  FullBath       1460 non-null   int64  \n",
      " 50  HalfBath       1460 non-null   int64  \n",
      " 51  BedroomAbvGr   1460 non-null   int64  \n",
      " 52  KitchenAbvGr   1460 non-null   int64  \n",
      " 53  KitchenQual    1460 non-null   object \n",
      " 54  TotRmsAbvGrd   1460 non-null   int64  \n",
      " 55  Functional     1460 non-null   object \n",
      " 56  Fireplaces     1460 non-null   int64  \n",
      " 57  FireplaceQu    770 non-null    object \n",
      " 58  GarageType     1379 non-null   object \n",
      " 59  GarageYrBlt    1379 non-null   float64\n",
      " 60  GarageFinish   1379 non-null   object \n",
      " 61  GarageCars     1460 non-null   int64  \n",
      " 62  GarageArea     1460 non-null   int64  \n",
      " 63  GarageQual     1379 non-null   object \n",
      " 64  GarageCond     1379 non-null   object \n",
      " 65  PavedDrive     1460 non-null   object \n",
      " 66  WoodDeckSF     1460 non-null   int64  \n",
      " 67  OpenPorchSF    1460 non-null   int64  \n",
      " 68  EnclosedPorch  1460 non-null   int64  \n",
      " 69  3SsnPorch      1460 non-null   int64  \n",
      " 70  ScreenPorch    1460 non-null   int64  \n",
      " 71  PoolArea       1460 non-null   int64  \n",
      " 72  PoolQC         7 non-null      object \n",
      " 73  Fence          281 non-null    object \n",
      " 74  MiscFeature    54 non-null     object \n",
      " 75  MiscVal        1460 non-null   int64  \n",
      " 76  MoSold         1460 non-null   int64  \n",
      " 77  YrSold         1460 non-null   int64  \n",
      " 78  SaleType       1460 non-null   object \n",
      " 79  SaleCondition  1460 non-null   object \n",
      " 80  SalePrice      1460 non-null   int64  \n",
      "dtypes: float64(3), int64(35), object(43)\n",
      "memory usage: 924.0+ KB\n"
     ]
    }
   ],
   "source": [
    "# checking the information of the given training data (the data types and each columns counts). three major data types where identified int64,float and Object\n",
    "train_data.info()"
   ]
  },
  {
   "cell_type": "code",
   "execution_count": 5,
   "id": "cfbeda99-134b-4fb2-9915-8c37abe0c806",
   "metadata": {},
   "outputs": [
    {
     "data": {
      "text/plain": [
       "<AxesSubplot:>"
      ]
     },
     "execution_count": 5,
     "metadata": {},
     "output_type": "execute_result"
    },
    {
     "data": {
      "image/png": "[encoded data removed]",
      "text/plain": [
       "<Figure size 432x288 with 1 Axes>"
      ]
     },
     "metadata": {},
     "output_type": "display_data"
    }
   ],
   "source": [
    "train_data['SalePrice'].hist(bins=60)"
   ]
  },
  {
   "cell_type": "markdown",
   "id": "de0fec57-9296-4d6a-aff8-720957ff2733",
   "metadata": {},
   "source": [
    "## Dealing with Outlier in the Targets"
   ]
  },
  {
   "cell_type": "code",
   "execution_count": 6,
   "id": "b21b60cb-8dd1-43f1-aa9b-effe92d85e88",
   "metadata": {},
   "outputs": [],
   "source": [
    "q = train_data['SalePrice'].quantile(.995)"
   ]
  },
  {
   "cell_type": "code",
   "execution_count": 7,
   "id": "068afbb7-f763-4789-82cc-f0f3006b02ab",
   "metadata": {},
   "outputs": [],
   "source": [
    "train = train_data[train_data['SalePrice']<q] "
   ]
  },
  {
   "cell_type": "code",
   "execution_count": 8,
   "id": "3d1f38ed-cac0-4682-8217-9f77d007a093",
   "metadata": {},
   "outputs": [
    {
     "data": {
      "text/plain": [
       "(1452, 81)"
      ]
     },
     "execution_count": 8,
     "metadata": {},
     "output_type": "execute_result"
    }
   ],
   "source": [
    "train.shape"
   ]
  },
  {
   "cell_type": "code",
   "execution_count": 9,
   "id": "e793c95e-f30a-4c95-b36d-d5e9f8d2b0f1",
   "metadata": {},
   "outputs": [
    {
     "data": {
      "text/plain": [
       "array([[<AxesSubplot:title={'center':'SalePrice'}>]], dtype=object)"
      ]
     },
     "execution_count": 9,
     "metadata": {},
     "output_type": "execute_result"
    },
    {
     "data": {
      "image/png": "[encoded data removed]",
      "text/plain": [
       "<Figure size 432x288 with 1 Axes>"
      ]
     },
     "metadata": {},
     "output_type": "display_data"
    }
   ],
   "source": [
    "train[[ 'SalePrice']].hist(bins=60)"
   ]
  },
  {
   "cell_type": "code",
   "execution_count": null,
   "id": "c9ba7bb6-5654-4a4e-8b70-cdf09d6d3021",
   "metadata": {
    "tags": []
   },
   "outputs": [],
   "source": []
  },
  {
   "cell_type": "markdown",
   "id": "2ccc1a78-c164-4578-8a79-28b0524566f9",
   "metadata": {},
   "source": [
    "## Combining Training and testing data "
   ]
  },
  {
   "cell_type": "code",
   "execution_count": 10,
   "id": "5f5e8274-7fb3-4b12-86db-294f26c2895d",
   "metadata": {
    "tags": []
   },
   "outputs": [
    {
     "data": {
      "text/plain": [
       "((1452, 81), (1459, 80))"
      ]
     },
     "execution_count": 10,
     "metadata": {},
     "output_type": "execute_result"
    }
   ],
   "source": [
    "train.shape, test.shape"
   ]
  },
  {
   "cell_type": "code",
   "execution_count": 11,
   "id": "3af43b12-0a97-43c4-b712-18affec23711",
   "metadata": {},
   "outputs": [
    {
     "data": {
      "text/plain": [
       "0"
      ]
     },
     "execution_count": 11,
     "metadata": {},
     "output_type": "execute_result"
    }
   ],
   "source": [
    "train['SalePrice'].isnull().sum()"
   ]
  },
  {
   "cell_type": "code",
   "execution_count": 12,
   "id": "c7e586ec-2abc-4d27-a261-443650055990",
   "metadata": {},
   "outputs": [],
   "source": [
    "train1 = train.drop(['SalePrice'],axis=1)"
   ]
  },
  {
   "cell_type": "code",
   "execution_count": 13,
   "id": "c45d5174-ae84-4198-9069-60ffbbdd795a",
   "metadata": {},
   "outputs": [],
   "source": [
    "combine_data = pd.concat([train1,test], ignore_index = True)"
   ]
  },
  {
   "cell_type": "code",
   "execution_count": 14,
   "id": "49203889-c4c0-47b5-b148-dd2074360a26",
   "metadata": {},
   "outputs": [
    {
     "data": {
      "text/plain": [
       "(2911, 80)"
      ]
     },
     "execution_count": 14,
     "metadata": {},
     "output_type": "execute_result"
    }
   ],
   "source": [
    "combine_data.shape"
   ]
  },
  {
   "cell_type": "markdown",
   "id": "7847db15-ee4b-4e86-9bd4-fbe07fce2215",
   "metadata": {},
   "source": [
    "## Checking for Missing Values"
   ]
  },
  {
   "cell_type": "code",
   "execution_count": 15,
   "id": "136349d2-6ca0-433d-8198-1eb09a7ae0d9",
   "metadata": {},
   "outputs": [
    {
     "data": {
      "text/plain": [
       "PoolQC          2902\n",
       "MiscFeature     2806\n",
       "Alley           2713\n",
       "Fence           2341\n",
       "FireplaceQu     1420\n",
       "LotFrontage      486\n",
       "GarageYrBlt      159\n",
       "GarageFinish     159\n",
       "GarageQual       159\n",
       "GarageCond       159\n",
       "dtype: int64"
      ]
     },
     "execution_count": 15,
     "metadata": {},
     "output_type": "execute_result"
    }
   ],
   "source": [
    "combine_data.isnull().sum().sort_values(ascending=False).head(10)"
   ]
  },
  {
   "cell_type": "code",
   "execution_count": 16,
   "id": "9abb5958-498b-4873-a2a8-c91421dddcfd",
   "metadata": {
    "tags": []
   },
   "outputs": [],
   "source": [
    "import missingno"
   ]
  },
  {
   "cell_type": "code",
   "execution_count": 17,
   "id": "d0170e60-fa12-48a8-bc98-11bb2e1001ce",
   "metadata": {},
   "outputs": [
    {
     "data": {
      "text/plain": [
       "<AxesSubplot:>"
      ]
     },
     "execution_count": 17,
     "metadata": {},
     "output_type": "execute_result"
    },
    {
     "data": {
      "image/png": "[encoded data removed]",
      "text/plain": [
       "<Figure size 1800x720 with 2 Axes>"
      ]
     },
     "metadata": {},
     "output_type": "display_data"
    }
   ],
   "source": [
    "missingno.matrix(combine_data)"
   ]
  },
  {
   "cell_type": "markdown",
   "id": "dca1a46f-1e86-4590-b827-95e8e693fa91",
   "metadata": {},
   "source": [
    "### Analyzing and fixing some large and significant missing values "
   ]
  },
  {
   "cell_type": "code",
   "execution_count": 18,
   "id": "3f75bf07-a00d-42ae-8a6d-350d08305feb",
   "metadata": {},
   "outputs": [],
   "source": [
    "combine_data_miss = combine_data.copy() "
   ]
  },
  {
   "cell_type": "code",
   "execution_count": 36,
   "id": "891632c0-ba9d-4d10-b957-0ba9229ff3e0",
   "metadata": {},
   "outputs": [
    {
     "data": {
      "text/plain": [
       "PoolQC          2902\n",
       "MiscFeature     2806\n",
       "Alley           2713\n",
       "Fence           2341\n",
       "FireplaceQu     1420\n",
       "LotFrontage      486\n",
       "GarageYrBlt      159\n",
       "GarageFinish     159\n",
       "GarageQual       159\n",
       "GarageCond       159\n",
       "dtype: int64"
      ]
     },
     "execution_count": 36,
     "metadata": {},
     "output_type": "execute_result"
    }
   ],
   "source": [
    "missing = combine_data_miss.isnull().sum().sort_values(ascending=False)\n",
    "missing.head(10)"
   ]
  },
  {
   "cell_type": "code",
   "execution_count": 37,
   "id": "c43928ef-d499-4b91-9777-5c34194d9065",
   "metadata": {},
   "outputs": [
    {
     "data": {
      "text/plain": [
       "Gd    4\n",
       "Ex    3\n",
       "Fa    2\n",
       "Name: PoolQC, dtype: int64"
      ]
     },
     "execution_count": 37,
     "metadata": {},
     "output_type": "execute_result"
    }
   ],
   "source": [
    "combine_data_miss['PoolQC'].value_counts()"
   ]
  },
  {
   "cell_type": "code",
   "execution_count": 38,
   "id": "4bd8f7af-2cc5-4639-b7a1-f120c707be87",
   "metadata": {},
   "outputs": [
    {
     "data": {
      "text/plain": [
       "Shed    95\n",
       "Gar2     5\n",
       "Othr     4\n",
       "TenC     1\n",
       "Name: MiscFeature, dtype: int64"
      ]
     },
     "execution_count": 38,
     "metadata": {},
     "output_type": "execute_result"
    }
   ],
   "source": [
    "combine_data_miss['MiscFeature'].value_counts()"
   ]
  },
  {
   "cell_type": "markdown",
   "id": "1f663c6c-1ad3-47d7-9303-9c92279ab09d",
   "metadata": {
    "tags": []
   },
   "source": [
    "# DEALING WITH MISSING VALUES "
   ]
  },
  {
   "cell_type": "code",
   "execution_count": null,
   "id": "8e65956c-ba12-4b6f-b045-255332f5f5a2",
   "metadata": {},
   "outputs": [],
   "source": [
    "def remove_large_miss():\n",
    "    for x in combine_data.columns:\n",
    "        removed_columns = []\n",
    "        if combine_data[x].isnull().sum()>(combine_data.shape[0]/10):\n",
    "            combine_data.drop(x,axis=1, inplace=True)\n",
    "            removed_columns.append(x)\n",
    "            print(removed_columns)\n",
    "    "
   ]
  },
  {
   "cell_type": "code",
   "execution_count": null,
   "id": "7b612186-fcbb-43f0-8471-15249e0e6d06",
   "metadata": {},
   "outputs": [],
   "source": [
    "remove_large_miss()"
   ]
  },
  {
   "cell_type": "code",
   "execution_count": null,
   "id": "6f78927b-5d47-45ec-8e26-5f3da7e4a5c2",
   "metadata": {},
   "outputs": [],
   "source": [
    "combine_data.shape"
   ]
  },
  {
   "cell_type": "code",
   "execution_count": null,
   "id": "866b1eb7-f3f8-447f-80d9-7a78fb38bbec",
   "metadata": {},
   "outputs": [],
   "source": [
    "def fillna_int_float():\n",
    "    for x in combine_data.columns:\n",
    "        filled_int_float = []\n",
    "        filled_obj = []\n",
    "        if ((combine_data[x].dtype =='int64')|(combine_data[x].dtype =='float64'))==True :\n",
    "            combine_data.fillna(combine_data[x].mean(), inplace=True)\n",
    "            filled_int_float.append(x)\n",
    "            print('Int_Float',filled_int_float)\n",
    "        else:\n",
    "            combine_data.fillna(combine_data[x].mode()[0], inplace=True)\n",
    "            filled_obj.append(x)\n",
    "            print('Object', filled_obj)"
   ]
  },
  {
   "cell_type": "code",
   "execution_count": null,
   "id": "13fd963b-c36a-44b4-b265-8c003a16917c",
   "metadata": {},
   "outputs": [],
   "source": [
    "combine_data['LotArea'].mode()[0]"
   ]
  },
  {
   "cell_type": "code",
   "execution_count": null,
   "id": "68e0184c-9203-4f13-8000-2b01ef93ab0d",
   "metadata": {},
   "outputs": [],
   "source": [
    "fillna_int_float()"
   ]
  },
  {
   "cell_type": "code",
   "execution_count": null,
   "id": "b82b0d4c-6b98-4cf3-ad4b-2b9c0f3de842",
   "metadata": {},
   "outputs": [],
   "source": [
    "missingno.matrix(combine_data)"
   ]
  },
  {
   "cell_type": "code",
   "execution_count": null,
   "id": "bf086357-053d-4b11-8df4-314686143867",
   "metadata": {},
   "outputs": [],
   "source": [
    "combine_data.shape"
   ]
  },
  {
   "cell_type": "markdown",
   "id": "034c3a3a-bae5-48be-8fda-64cec65d2d87",
   "metadata": {},
   "source": [
    "# DEALING WITH CATEGORICAL VARIABLES "
   ]
  },
  {
   "cell_type": "code",
   "execution_count": null,
   "id": "80c502c8-ed9d-4209-9262-f564b96bea03",
   "metadata": {},
   "outputs": [],
   "source": [
    "combine = combine_data.copy()"
   ]
  },
  {
   "cell_type": "code",
   "execution_count": 14,
   "id": "ba167f08-0a27-4a52-bee0-48f8964bcb70",
   "metadata": {},
   "outputs": [
    {
     "ename": "NameError",
     "evalue": "name 'combine' is not defined",
     "output_type": "error",
     "traceback": [
      "\u001b[1;31m---------------------------------------------------------------------------\u001b[0m",
      "\u001b[1;31mNameError\u001b[0m                                 Traceback (most recent call last)",
      "\u001b[1;32m~\\AppData\\Local\\Temp/ipykernel_28308/4075439699.py\u001b[0m in \u001b[0;36m<module>\u001b[1;34m\u001b[0m\n\u001b[0;32m      1\u001b[0m \u001b[1;31m# this function will show all the categorical variables in the dataframe\u001b[0m\u001b[1;33m\u001b[0m\u001b[1;33m\u001b[0m\u001b[0m\n\u001b[1;32m----> 2\u001b[1;33m \u001b[1;32mfor\u001b[0m \u001b[0mx\u001b[0m \u001b[1;32min\u001b[0m \u001b[0mcombine\u001b[0m\u001b[1;33m.\u001b[0m\u001b[0mcolumns\u001b[0m\u001b[1;33m:\u001b[0m\u001b[1;33m\u001b[0m\u001b[1;33m\u001b[0m\u001b[0m\n\u001b[0m\u001b[0;32m      3\u001b[0m     \u001b[1;32mif\u001b[0m \u001b[1;33m(\u001b[0m\u001b[0mcombine\u001b[0m\u001b[1;33m[\u001b[0m\u001b[0mx\u001b[0m\u001b[1;33m]\u001b[0m\u001b[1;33m.\u001b[0m\u001b[0mdtype\u001b[0m\u001b[1;33m==\u001b[0m\u001b[1;34m'O'\u001b[0m\u001b[1;33m)\u001b[0m\u001b[1;33m==\u001b[0m\u001b[1;32mTrue\u001b[0m\u001b[1;33m:\u001b[0m\u001b[1;33m\u001b[0m\u001b[1;33m\u001b[0m\u001b[0m\n\u001b[0;32m      4\u001b[0m         \u001b[1;31m#combine[x].value_counts()\u001b[0m\u001b[1;33m\u001b[0m\u001b[1;33m\u001b[0m\u001b[0m\n\u001b[0;32m      5\u001b[0m         \u001b[0mprint\u001b[0m\u001b[1;33m(\u001b[0m\u001b[0mx\u001b[0m\u001b[1;33m)\u001b[0m\u001b[1;33m\u001b[0m\u001b[1;33m\u001b[0m\u001b[0m\n",
      "\u001b[1;31mNameError\u001b[0m: name 'combine' is not defined"
     ]
    }
   ],
   "source": [
    "# this function will show all the categorical variables in the dataframe\n",
    "for x in combine.columns:\n",
    "    if (combine[x].dtype=='O')==True:\n",
    "        #combine[x].value_counts()\n",
    "        print(x)"
   ]
  },
  {
   "cell_type": "code",
   "execution_count": null,
   "id": "9657f221-1941-490e-93dc-d8bacc0388c2",
   "metadata": {},
   "outputs": [],
   "source": [
    "categorical_var_list = ['MSZoning','Street','LotShape','LandContour','Utilities','LotConfig','LandSlope','Neighborhood','Condition1','Condition2','BldgType','HouseStyle','RoofStyle','RoofMatl','Exterior1st','Exterior2nd','MasVnrType','ExterQual','ExterCond','Foundation','BsmtQual','BsmtCond','BsmtExposure','BsmtFinType1','BsmtFinType2','Heating','HeatingQC','CentralAir','Electrical','KitchenQual','Functional','GarageType','GarageFinish','GarageQual','GarageCond','PavedDrive','SaleType','SaleCondition']"
   ]
  },
  {
   "cell_type": "code",
   "execution_count": null,
   "id": "974612dd-816a-4ebd-9ded-c88fc4c91dfe",
   "metadata": {},
   "outputs": [],
   "source": [
    "combine.head(3)"
   ]
  },
  {
   "cell_type": "markdown",
   "id": "749ad890-29ea-48f9-a6d3-1e13faaea34d",
   "metadata": {
    "tags": []
   },
   "source": [
    "# Creating Dummies for Categorical Data \n"
   ]
  },
  {
   "cell_type": "code",
   "execution_count": null,
   "id": "562d32d6-24f8-4e14-adb6-a9a2d5ea4cf8",
   "metadata": {
    "tags": []
   },
   "outputs": [],
   "source": [
    "combine_with_dum = pd.get_dummies(combine, columns=categorical_var_list, drop_first=True)"
   ]
  },
  {
   "cell_type": "code",
   "execution_count": null,
   "id": "73516dd1-0fc7-403e-90d9-89d5e6f22d14",
   "metadata": {},
   "outputs": [],
   "source": [
    "combine_with_dum.head()"
   ]
  },
  {
   "cell_type": "code",
   "execution_count": null,
   "id": "4c7490b5-fa3b-43af-8143-1ded32d095c2",
   "metadata": {},
   "outputs": [],
   "source": [
    "combine_with_dum.shape"
   ]
  },
  {
   "cell_type": "markdown",
   "id": "847b73b7-ae90-4898-965c-eafb001116e4",
   "metadata": {},
   "source": [
    "# Seperating Dummies and non_dumies"
   ]
  },
  {
   "cell_type": "code",
   "execution_count": null,
   "id": "fa19b3b0-ed31-4cc4-a8e2-20bc4ead24ee",
   "metadata": {},
   "outputs": [],
   "source": [
    "non_dummies = combine.drop(categorical_var_list, axis = 1)"
   ]
  },
  {
   "cell_type": "code",
   "execution_count": null,
   "id": "42e3e3cb-534c-4d54-bcc2-b5cf6b6199b0",
   "metadata": {},
   "outputs": [],
   "source": [
    "non_dummies.columns"
   ]
  },
  {
   "cell_type": "code",
   "execution_count": null,
   "id": "08624258-253a-4c22-ade0-4be558f9a22b",
   "metadata": {},
   "outputs": [],
   "source": [
    "list_of_num_var = ['Id', 'MSSubClass', 'LotArea', 'OverallQual', 'OverallCond',\n",
    "       'YearBuilt', 'YearRemodAdd', 'MasVnrArea', 'BsmtFinSF1', 'BsmtFinSF2',\n",
    "       'BsmtUnfSF', 'TotalBsmtSF', '1stFlrSF', '2ndFlrSF', 'LowQualFinSF',\n",
    "       'GrLivArea', 'BsmtFullBath', 'BsmtHalfBath', 'FullBath', 'HalfBath',\n",
    "       'BedroomAbvGr', 'KitchenAbvGr', 'TotRmsAbvGrd', 'Fireplaces',\n",
    "       'GarageYrBlt', 'GarageCars', 'GarageArea', 'WoodDeckSF', 'OpenPorchSF',\n",
    "       'EnclosedPorch', '3SsnPorch', 'ScreenPorch', 'PoolArea', 'MiscVal',\n",
    "       'MoSold', 'YrSold']"
   ]
  },
  {
   "cell_type": "code",
   "execution_count": null,
   "id": "944a661d-88f6-4f72-ad3a-56c927fe1e2e",
   "metadata": {},
   "outputs": [],
   "source": [
    "only_dummies = combine_with_dum.drop(list_of_num_var, axis=1)"
   ]
  },
  {
   "cell_type": "code",
   "execution_count": null,
   "id": "de03c5f1-f05a-47e5-bd84-d96d966bf687",
   "metadata": {},
   "outputs": [],
   "source": [
    "non_dummies.head()"
   ]
  },
  {
   "cell_type": "code",
   "execution_count": null,
   "id": "1d1c5aae-9a73-4fcc-9d97-21a6fd85e542",
   "metadata": {},
   "outputs": [],
   "source": [
    "only_dummies.head()"
   ]
  },
  {
   "cell_type": "markdown",
   "id": "933885bc-8c48-4dfa-b60f-015365594eaf",
   "metadata": {
    "tags": []
   },
   "source": [
    "# Automating band creation\n",
    "All values will be categorised by intervals "
   ]
  },
  {
   "cell_type": "code",
   "execution_count": null,
   "id": "5d536e62-8348-4a58-bd4b-02998853df73",
   "metadata": {},
   "outputs": [],
   "source": [
    "non_dummies = combine.drop(categorical_var_list, axis = 1)"
   ]
  },
  {
   "cell_type": "code",
   "execution_count": null,
   "id": "e81a7306-631b-4b8d-b179-cfd70243c543",
   "metadata": {},
   "outputs": [],
   "source": [
    "no_dummies = non_dummies.copy()"
   ]
  },
  {
   "cell_type": "code",
   "execution_count": null,
   "id": "bdde1ec4-90dd-40f5-95c3-2773f2a4b45a",
   "metadata": {},
   "outputs": [],
   "source": [
    "no_dummies.drop('Id',axis=1,inplace=True)"
   ]
  },
  {
   "cell_type": "code",
   "execution_count": null,
   "id": "12b48efe-8934-404e-8852-d02ea923c173",
   "metadata": {},
   "outputs": [],
   "source": [
    "no_dummies.head()"
   ]
  },
  {
   "cell_type": "code",
   "execution_count": null,
   "id": "d3164d0f-1aa1-464c-95cc-3b656ca725c8",
   "metadata": {},
   "outputs": [],
   "source": [
    "# this function cut all inputs x into interval replacing their lebels with preffix y and then dropping the columns x after creating the interval\n",
    "def band_creator(x,y):\n",
    "    no_dummies[y] = pd.cut(no_dummies[x],4)\n",
    "    no_dummies.drop(x,axis=1, inplace=True)\n",
    "    #return no_dummies[y].value_counts()"
   ]
  },
  {
   "cell_type": "code",
   "execution_count": null,
   "id": "3990f7d4-e418-4387-8cc5-7898b2f5388a",
   "metadata": {},
   "outputs": [],
   "source": [
    "# Taking each col we perform the operation as described in the function above\n",
    "for x in no_dummies.columns:\n",
    "    done = []\n",
    "    y = x[:3]\n",
    "    band_creator(x,y)\n",
    "    done.append(y)\n",
    "    #print(done)"
   ]
  },
  {
   "cell_type": "code",
   "execution_count": null,
   "id": "184521a6-5f8d-40cb-a86d-949966eda35f",
   "metadata": {},
   "outputs": [],
   "source": [
    "no_dummies.head()"
   ]
  },
  {
   "cell_type": "code",
   "execution_count": null,
   "id": "41fa29f4-6d30-493f-83f1-3a0832264c39",
   "metadata": {},
   "outputs": [],
   "source": [
    "no_dummies.shape"
   ]
  },
  {
   "cell_type": "markdown",
   "id": "561b3ec1-d271-4ea4-9e13-6e5c270d78e8",
   "metadata": {},
   "source": [
    "# Encoding the new data (coverting the to Dummy variable)"
   ]
  },
  {
   "cell_type": "code",
   "execution_count": null,
   "id": "5fc1168c-6f1b-4d4d-9159-0e83e150fd93",
   "metadata": {},
   "outputs": [],
   "source": [
    "dummies_new = pd.get_dummies(no_dummies,drop_first=True)"
   ]
  },
  {
   "cell_type": "code",
   "execution_count": null,
   "id": "8ef94800-8f4b-46a7-b40e-95f408507da9",
   "metadata": {},
   "outputs": [],
   "source": [
    "dummies_new.head()"
   ]
  },
  {
   "cell_type": "markdown",
   "id": "36ab7553-8af0-4a28-a0b5-3d55f155dff4",
   "metadata": {},
   "source": [
    "# combining all the dummies again"
   ]
  },
  {
   "cell_type": "code",
   "execution_count": null,
   "id": "99d92b07-e78b-4765-8a1b-8bfc5510610b",
   "metadata": {},
   "outputs": [],
   "source": [
    "final_data = pd.concat([dummies_new,only_dummies],axis=1)"
   ]
  },
  {
   "cell_type": "code",
   "execution_count": null,
   "id": "1d82bec7-d628-4e94-9ccc-35d482871c21",
   "metadata": {},
   "outputs": [],
   "source": [
    "dummies_new.shape"
   ]
  },
  {
   "cell_type": "code",
   "execution_count": null,
   "id": "ac228e8a-71a2-494d-bbbc-b3b18d52324e",
   "metadata": {},
   "outputs": [],
   "source": [
    "final_data.head()"
   ]
  },
  {
   "cell_type": "code",
   "execution_count": null,
   "id": "05baf97d-791e-47e9-9cf2-caece21f72c1",
   "metadata": {},
   "outputs": [],
   "source": [
    "totrain = final_data[:1452]\n",
    "totest = final_data[1452:]\n",
    "totrain.shape, totest.shape"
   ]
  },
  {
   "cell_type": "code",
   "execution_count": null,
   "id": "fed55889-b064-4e2d-88c2-1717ccfe8fd2",
   "metadata": {},
   "outputs": [],
   "source": [
    "totrain = pd.concat([totrain,train['SalePrice']],axis=1)"
   ]
  },
  {
   "cell_type": "code",
   "execution_count": null,
   "id": "134b9606-8884-4407-987a-174927624184",
   "metadata": {},
   "outputs": [],
   "source": [
    "totrain.to_csv('preprocessed/training.csv', index=False)\n",
    "totest.to_csv('preprocessed/testing.csv', index=False)"
   ]
  },
  {
   "cell_type": "code",
   "execution_count": null,
   "id": "03cb1cec-4525-4270-a98b-2db91312d3e3",
   "metadata": {},
   "outputs": [],
   "source": []
  },
  {
   "cell_type": "code",
   "execution_count": null,
   "id": "5ffd5bf3-1d4e-4831-9624-f3c67abe2f93",
   "metadata": {},
   "outputs": [],
   "source": [
    "#from sklearn.preprocessing import StandardScaler"
   ]
  },
  {
   "cell_type": "code",
   "execution_count": null,
   "id": "01707aac-72e1-4eae-8bcd-e25f1cbd80d9",
   "metadata": {},
   "outputs": [],
   "source": [
    "scaler = StandardScaler()"
   ]
  },
  {
   "cell_type": "code",
   "execution_count": null,
   "id": "791d111f-aca6-492c-8f6f-98e4d740d678",
   "metadata": {},
   "outputs": [],
   "source": [
    "#this step calculate the mean and standard Deviation of the Data while\n",
    "scaler.fit(combine_with_dum)"
   ]
  },
  {
   "cell_type": "code",
   "execution_count": null,
   "id": "e7f3b1f0-c37d-4f82-bfbd-456c7fa7624c",
   "metadata": {},
   "outputs": [],
   "source": [
    "#this step Does the trandormation or strandadization\n",
    "scaled_input = scaler.transform(combine_with_dum)"
   ]
  },
  {
   "cell_type": "code",
   "execution_count": null,
   "id": "3cdb1bc6-3382-4f89-b0be-1c2765e5b580",
   "metadata": {},
   "outputs": [],
   "source": [
    "scaled_input"
   ]
  },
  {
   "cell_type": "code",
   "execution_count": null,
   "id": "8655f0a0-6f38-4b61-9254-821dfeddb5ce",
   "metadata": {},
   "outputs": [],
   "source": [
    "scaled_input.head()"
   ]
  }
 ],
 "metadata": {
  "kernelspec": {
   "display_name": "Python 3 (ipykernel)",
   "language": "python",
   "name": "python3"
  },
  "language_info": {
   "codemirror_mode": {
    "name": "ipython",
    "version": 3
   },
   "file_extension": ".py",
   "mimetype": "text/x-python",
   "name": "python",
   "nbconvert_exporter": "python",
   "pygments_lexer": "ipython3",
   "version": "3.9.7"
  }
 },
 "nbformat": 4,
 "nbformat_minor": 5
}
