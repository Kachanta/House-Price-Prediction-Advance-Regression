{
 "cells": [
  {
   "cell_type": "code",
   "execution_count": 1,
   "id": "c13d4ed7-8c03-4f4e-a8d7-a70cb9d64730",
   "metadata": {},
   "outputs": [],
   "source": [
    "import numpy as np"
   ]
  },
  {
   "cell_type": "code",
   "execution_count": 2,
   "id": "1fda5566-0f06-40d8-98b0-6af4881897a8",
   "metadata": {},
   "outputs": [
    {
     "data": {
      "text/plain": [
       "array([[0., 0., 0., 0., 0.],\n",
       "       [0., 0., 0., 0., 0.],\n",
       "       [0., 0., 0., 0., 0.],\n",
       "       [0., 0., 0., 0., 0.],\n",
       "       [0., 0., 0., 0., 0.]])"
      ]
     },
     "execution_count": 2,
     "metadata": {},
     "output_type": "execute_result"
    }
   ],
   "source": [
    "np.zeros((5,5))"
   ]
  },
  {
   "cell_type": "code",
   "execution_count": 3,
   "id": "5cdc2080-6ebe-4dd0-b883-e8c9a7d38c33",
   "metadata": {},
   "outputs": [
    {
     "data": {
      "text/plain": [
       "array([[[0., 0., 0.],\n",
       "        [0., 0., 0.]],\n",
       "\n",
       "       [[0., 0., 0.],\n",
       "        [0., 0., 0.]]])"
      ]
     },
     "execution_count": 3,
     "metadata": {},
     "output_type": "execute_result"
    }
   ],
   "source": [
    "    np.zeros((2,2,3))"
   ]
  },
  {
   "cell_type": "code",
   "execution_count": 4,
   "id": "3d5eaa22-7e0d-4adb-a19e-b2025636a647",
   "metadata": {},
   "outputs": [
    {
     "data": {
      "text/plain": [
       "array([[1., 1., 1., 1.],\n",
       "       [1., 1., 1., 1.],\n",
       "       [1., 1., 1., 1.],\n",
       "       [1., 1., 1., 1.]])"
      ]
     },
     "execution_count": 4,
     "metadata": {},
     "output_type": "execute_result"
    }
   ],
   "source": [
    "a = np.ones((4,4))\n",
    "a"
   ]
  },
  {
   "cell_type": "code",
   "execution_count": 5,
   "id": "4593e1fe-1764-42c0-8918-4e856e09a33e",
   "metadata": {},
   "outputs": [
    {
     "data": {
      "text/plain": [
       "array([[12., 12., 12., 12.],\n",
       "       [12., 12., 12., 12.],\n",
       "       [12., 12., 12., 12.],\n",
       "       [12., 12., 12., 12.]])"
      ]
     },
     "execution_count": 5,
     "metadata": {},
     "output_type": "execute_result"
    }
   ],
   "source": [
    "np.full_like(a,12)"
   ]
  },
  {
   "cell_type": "code",
   "execution_count": 6,
   "id": "9a24c74b-fb08-4be7-a041-e5bf83d87b5a",
   "metadata": {},
   "outputs": [
    {
     "data": {
      "text/plain": [
       "array([[10, 10, 10, 10],\n",
       "       [10, 10, 10, 10],\n",
       "       [10, 10, 10, 10],\n",
       "       [10, 10, 10, 10]])"
      ]
     },
     "execution_count": 6,
     "metadata": {},
     "output_type": "execute_result"
    }
   ],
   "source": [
    "np.full(a.shape, 10)"
   ]
  },
  {
   "cell_type": "code",
   "execution_count": 7,
   "id": "f955eee6-9002-4bda-92f8-defc814813a6",
   "metadata": {},
   "outputs": [],
   "source": [
    "rr = np.full(a.shape,20, dtype = 'int8')"
   ]
  },
  {
   "cell_type": "code",
   "execution_count": 8,
   "id": "6c5448c9-da1e-4913-a36d-71fcd8bccfc8",
   "metadata": {},
   "outputs": [
    {
     "data": {
      "text/plain": [
       "dtype('int8')"
      ]
     },
     "execution_count": 8,
     "metadata": {},
     "output_type": "execute_result"
    }
   ],
   "source": [
    "rr.dtype"
   ]
  },
  {
   "cell_type": "code",
   "execution_count": 9,
   "id": "e00853c3-ec6f-4eaa-8388-e3939e5cd408",
   "metadata": {},
   "outputs": [
    {
     "name": "stdout",
     "output_type": "stream",
     "text": [
      "[[1. 1. 1. 1. 1.]\n",
      " [1. 1. 1. 1. 1.]\n",
      " [1. 1. 1. 1. 1.]\n",
      " [1. 1. 1. 1. 1.]\n",
      " [1. 1. 1. 1. 1.]]\n",
      "-------------------------------------------\n",
      "[[0. 0. 0.]\n",
      " [0. 0. 0.]\n",
      " [0. 0. 0.]]\n",
      "-------------------------------------------\n",
      "[[0. 0. 0.]\n",
      " [0. 9. 0.]\n",
      " [0. 0. 0.]]\n",
      "-------------------------------------------\n",
      "[[1. 1. 1. 1. 1.]\n",
      " [1. 0. 0. 0. 1.]\n",
      " [1. 0. 9. 0. 1.]\n",
      " [1. 0. 0. 0. 1.]\n",
      " [1. 1. 1. 1. 1.]]\n"
     ]
    }
   ],
   "source": [
    "out = np.ones((5,5))\n",
    "print(out)\n",
    "print('-------------------------------------------')\n",
    "z = np.zeros((3,3))\n",
    "print(z)\n",
    "print('-------------------------------------------')\n",
    "z[1:2,1:2] = 9\n",
    "print(z)\n",
    "print('-------------------------------------------')\n",
    "\n",
    "out[1:4,1:4] = z\n",
    "print(out)"
   ]
  },
  {
   "cell_type": "code",
   "execution_count": 10,
   "id": "9179e9a4-d712-4e7d-b785-c0f95b665417",
   "metadata": {},
   "outputs": [
    {
     "data": {
      "text/plain": [
       "array([2, 1, 3, 4])"
      ]
     },
     "execution_count": 10,
     "metadata": {},
     "output_type": "execute_result"
    }
   ],
   "source": [
    "aa = np.array([2,1,3,4])\n",
    "aa"
   ]
  },
  {
   "cell_type": "code",
   "execution_count": 11,
   "id": "03c8543e-a4f6-48da-9ad0-683558a0ab1e",
   "metadata": {},
   "outputs": [
    {
     "name": "stdout",
     "output_type": "stream",
     "text": [
      "[  2 200   3   4]\n",
      "[2 1 3 4]\n"
     ]
    }
   ],
   "source": [
    "b = aa.copy()\n",
    "b[1]=200\n",
    "print(b)\n",
    "print(aa)"
   ]
  },
  {
   "cell_type": "code",
   "execution_count": 12,
   "id": "63b55d71-b48c-46ef-8176-471e745f968e",
   "metadata": {},
   "outputs": [
    {
     "ename": "TypeError",
     "evalue": "_vhstack_dispatcher() missing 1 required positional argument: 'tup'",
     "output_type": "error",
     "traceback": [
      "\u001b[1;31m---------------------------------------------------------------------------\u001b[0m",
      "\u001b[1;31mTypeError\u001b[0m                                 Traceback (most recent call last)",
      "\u001b[1;32m~\\AppData\\Local\\Temp/ipykernel_16052/1762293548.py\u001b[0m in \u001b[0;36m<module>\u001b[1;34m\u001b[0m\n\u001b[1;32m----> 1\u001b[1;33m \u001b[0mnp\u001b[0m\u001b[1;33m.\u001b[0m\u001b[0mvstack\u001b[0m\u001b[1;33m(\u001b[0m\u001b[1;33m)\u001b[0m\u001b[1;33m\u001b[0m\u001b[1;33m\u001b[0m\u001b[0m\n\u001b[0m\u001b[0;32m      2\u001b[0m \u001b[0mnp\u001b[0m\u001b[1;33m.\u001b[0m\u001b[0mhstack\u001b[0m\u001b[1;33m(\u001b[0m\u001b[1;33m)\u001b[0m\u001b[1;33m\u001b[0m\u001b[1;33m\u001b[0m\u001b[0m\n",
      "\u001b[1;32m<__array_function__ internals>\u001b[0m in \u001b[0;36mvstack\u001b[1;34m(*args, **kwargs)\u001b[0m\n",
      "\u001b[1;31mTypeError\u001b[0m: _vhstack_dispatcher() missing 1 required positional argument: 'tup'"
     ]
    }
   ],
   "source": [
    "np.vstack()\n",
    "np.hstack()"
   ]
  },
  {
   "cell_type": "code",
   "execution_count": 14,
   "id": "c71c911c-9e38-4240-a44c-e3348e852099",
   "metadata": {},
   "outputs": [
    {
     "data": {
      "text/plain": [
       "array([[1., 1., 1., 1.],\n",
       "       [1., 1., 1., 1.],\n",
       "       [1., 1., 1., 1.],\n",
       "       [1., 1., 1., 1.]])"
      ]
     },
     "execution_count": 14,
     "metadata": {},
     "output_type": "execute_result"
    }
   ],
   "source": [
    "a"
   ]
  },
  {
   "cell_type": "code",
   "execution_count": 15,
   "id": "36bc4051-8f76-4d1b-9c3a-eb514ed607db",
   "metadata": {},
   "outputs": [],
   "source": [
    "cc = [1,2,3,4,5,6,7,8,9]\n",
    "arr = np.array(cc)"
   ]
  },
  {
   "cell_type": "code",
   "execution_count": 16,
   "id": "069c45f5-e5b1-48d5-93e3-c964e376f14b",
   "metadata": {},
   "outputs": [
    {
     "data": {
      "text/plain": [
       "array([[1, 2, 3],\n",
       "       [4, 5, 6],\n",
       "       [7, 8, 9]])"
      ]
     },
     "execution_count": 16,
     "metadata": {},
     "output_type": "execute_result"
    }
   ],
   "source": [
    "nn = arr.reshape(3,3)\n",
    "nn"
   ]
  },
  {
   "cell_type": "code",
   "execution_count": 24,
   "id": "e2db221c-3440-40f6-baf4-2018ca049947",
   "metadata": {},
   "outputs": [
    {
     "data": {
      "text/plain": [
       "{'Mean': [[4.0, 5.0, 6.0], [2.0, 5.0, 8.0], 2.581988897471611]}"
      ]
     },
     "execution_count": 24,
     "metadata": {},
     "output_type": "execute_result"
    }
   ],
   "source": [
    "output = {'Mean':[nn.mean(axis=0).tolist(),nn.mean(axis=1).tolist(),arr.std(axis=0).tolist()]}\n",
    "output"
   ]
  },
  {
   "cell_type": "code",
   "execution_count": 26,
   "id": "135b024c-eec3-4870-b021-a945f24284b8",
   "metadata": {},
   "outputs": [
    {
     "data": {
      "text/plain": [
       "2.581988897471611"
      ]
     },
     "execution_count": 26,
     "metadata": {},
     "output_type": "execute_result"
    }
   ],
   "source": [
    "nn.std()"
   ]
  },
  {
   "cell_type": "code",
   "execution_count": 18,
   "id": "a4f73971-bfd2-422d-af03-91c1645b4a50",
   "metadata": {
    "jupyter": {
     "source_hidden": true
    },
    "tags": []
   },
   "outputs": [
    {
     "data": {
      "text/plain": [
       "[4.0, 5.0, 6.0]"
      ]
     },
     "execution_count": 18,
     "metadata": {},
     "output_type": "execute_result"
    }
   ],
   "source": [
    "nn.mean(axis=0).tolist()"
   ]
  },
  {
   "cell_type": "code",
   "execution_count": null,
   "id": "4de2a5c3-743a-4ab4-ab80-7bf7072908dc",
   "metadata": {},
   "outputs": [],
   "source": []
  },
  {
   "cell_type": "code",
   "execution_count": 35,
   "id": "bb029133-8ed8-42d3-adc7-202684552d20",
   "metadata": {},
   "outputs": [],
   "source": [
    "re = [2345843897,3489,345,456,7567,56345,346,546,56756,768,34]\n",
    "reg = np.array(re)"
   ]
  },
  {
   "cell_type": "code",
   "execution_count": 36,
   "id": "4661ff5e-fc51-448b-ad6f-ac897e1cddc1",
   "metadata": {},
   "outputs": [
    {
     "data": {
      "text/plain": [
       "array([2345843897,       3489,        345,        456,       7567,\n",
       "            56345,        346,        546,      56756,        768,\n",
       "               34], dtype=int64)"
      ]
     },
     "execution_count": 36,
     "metadata": {},
     "output_type": "execute_result"
    }
   ],
   "source": [
    "reg"
   ]
  },
  {
   "cell_type": "code",
   "execution_count": 37,
   "id": "55774217-9d8a-4aaf-aeec-c29feb937d69",
   "metadata": {},
   "outputs": [],
   "source": [
    "man = reg"
   ]
  },
  {
   "cell_type": "code",
   "execution_count": 46,
   "id": "4a9ea88e-a700-4ea1-b9fe-1313e8b2ee4b",
   "metadata": {},
   "outputs": [],
   "source": [
    "man = man.reshape(-1,1)"
   ]
  },
  {
   "cell_type": "code",
   "execution_count": 47,
   "id": "d394d515-4614-4ca4-9fc1-5ccac7fc2f44",
   "metadata": {},
   "outputs": [
    {
     "data": {
      "text/plain": [
       "array([[2345843897],\n",
       "       [      3489],\n",
       "       [       345],\n",
       "       [       456],\n",
       "       [      7567],\n",
       "       [     56345],\n",
       "       [       346],\n",
       "       [       546],\n",
       "       [     56756],\n",
       "       [       768],\n",
       "       [        34]], dtype=int64)"
      ]
     },
     "execution_count": 47,
     "metadata": {},
     "output_type": "execute_result"
    }
   ],
   "source": [
    "man"
   ]
  },
  {
   "cell_type": "code",
   "execution_count": 48,
   "id": "695ab88c-4959-4ca4-ad62-76bc2c62e8e4",
   "metadata": {},
   "outputs": [
    {
     "data": {
      "text/plain": [
       "array([2345843897,       3489,        345,        456,       7567,\n",
       "            56345,        346,        546,      56756,        768,\n",
       "               34], dtype=int64)"
      ]
     },
     "execution_count": 48,
     "metadata": {},
     "output_type": "execute_result"
    }
   ],
   "source": [
    "reg"
   ]
  },
  {
   "cell_type": "code",
   "execution_count": 1,
   "id": "8e3da8c1-caca-487e-8a46-718fd26abdb4",
   "metadata": {},
   "outputs": [],
   "source": [
    "txt =[ \"10.2.23.323 - car [2022:13:5] this is it \", \"10.2.23.323 - car [2022:13:5] this is it \", \"10.2.23.323 - car [2022:13:5] this is it \"] "
   ]
  },
  {
   "cell_type": "code",
   "execution_count": 22,
   "id": "a4168b0b-ccd5-4930-aba2-9d3898d55396",
   "metadata": {},
   "outputs": [],
   "source": [
    "def parser1():\n",
    "    for line in txt:\n",
    "        print(re.split(\"\\[|\\]\", line)[1])"
   ]
  },
  {
   "cell_type": "code",
   "execution_count": 28,
   "id": "1cc641f2-69a3-442e-97cf-8fe1b007b6dd",
   "metadata": {},
   "outputs": [],
   "source": [
    "nums = [-3,-5,-1,3,5,7,8]\n",
    "def sqsum(nums):\n",
    "    return sum(x**2 for x in nums if x>0)"
   ]
  },
  {
   "cell_type": "code",
   "execution_count": 29,
   "id": "98b4b3cb-9f67-49b0-8ca7-83a019787dd1",
   "metadata": {},
   "outputs": [
    {
     "data": {
      "text/plain": [
       "147"
      ]
     },
     "execution_count": 29,
     "metadata": {},
     "output_type": "execute_result"
    }
   ],
   "source": [
    "sqsum(nums)"
   ]
  },
  {
   "cell_type": "code",
   "execution_count": 33,
   "id": "392fdd42-0818-4496-96ba-6ee6e2adc6b0",
   "metadata": {},
   "outputs": [],
   "source": [
    "nums=[23,34]\n",
    "nums=[33]"
   ]
  },
  {
   "cell_type": "code",
   "execution_count": 41,
   "id": "fa946e98-1268-401f-8d12-69e4f74477a0",
   "metadata": {},
   "outputs": [],
   "source": [
    "class newnums:\n",
    "    pass\n",
    "nums = newnums()"
   ]
  },
  {
   "cell_type": "code",
   "execution_count": 42,
   "id": "86fe63b2-548a-4ca5-9186-2c9d09b39709",
   "metadata": {},
   "outputs": [],
   "source": [
    "nums.name = \"Reuben Solomon \""
   ]
  },
  {
   "cell_type": "code",
   "execution_count": 45,
   "id": "7f715316-c7be-4016-8b9f-0338e293a383",
   "metadata": {},
   "outputs": [
    {
     "data": {
      "text/plain": [
       "<__main__.newnums at 0x28c94c140d0>"
      ]
     },
     "execution_count": 45,
     "metadata": {},
     "output_type": "execute_result"
    }
   ],
   "source": []
  },
  {
   "cell_type": "code",
   "execution_count": null,
   "id": "1bdf1cb7-00d7-4e27-aa46-f96b75519ee4",
   "metadata": {},
   "outputs": [],
   "source": []
  }
 ],
 "metadata": {
  "kernelspec": {
   "display_name": "Python 3 (ipykernel)",
   "language": "python",
   "name": "python3"
  },
  "language_info": {
   "codemirror_mode": {
    "name": "ipython",
    "version": 3
   },
   "file_extension": ".py",
   "mimetype": "text/x-python",
   "name": "python",
   "nbconvert_exporter": "python",
   "pygments_lexer": "ipython3",
   "version": "3.9.7"
  }
 },
 "nbformat": 4,
 "nbformat_minor": 5
}
